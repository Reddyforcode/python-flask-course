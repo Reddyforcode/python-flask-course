{
 "cells": [
  {
   "cell_type": "markdown",
   "metadata": {},
   "source": [
    "# Python Basics"
   ]
  },
  {
   "cell_type": "markdown",
   "metadata": {},
   "source": [
    "### Numericos"
   ]
  },
  {
   "cell_type": "code",
   "execution_count": 5,
   "metadata": {},
   "outputs": [
    {
     "name": "stdout",
     "output_type": "stream",
     "text": [
      "12345678909876543234567876543212345678765432123456765432\n",
      "<class 'int'>\n"
     ]
    }
   ],
   "source": [
    "# int\n",
    "entero = 2\n",
    "print(entero)\n",
    "print(type(entero))\n",
    "\n",
    "#int\n",
    "#float\n",
    "#str\n",
    "#bool"
   ]
  },
  {
   "cell_type": "markdown",
   "metadata": {},
   "source": [
    "### Booleanos"
   ]
  },
  {
   "cell_type": "code",
   "execution_count": 21,
   "metadata": {},
   "outputs": [
    {
     "name": "stdout",
     "output_type": "stream",
     "text": [
      "False\n"
     ]
    }
   ],
   "source": [
    "x = False #True\n",
    "print(x)"
   ]
  },
  {
   "cell_type": "markdown",
   "metadata": {},
   "source": [
    "### Cadenas"
   ]
  },
  {
   "cell_type": "code",
   "execution_count": 11,
   "metadata": {},
   "outputs": [
    {
     "name": "stdout",
     "output_type": "stream",
     "text": [
      "este es un string\n"
     ]
    }
   ],
   "source": [
    "string = \"este es un string\"\n",
    "print(string)"
   ]
  },
  {
   "cell_type": "markdown",
   "metadata": {},
   "source": [
    "### Listas"
   ]
  },
  {
   "cell_type": "code",
   "execution_count": 29,
   "metadata": {},
   "outputs": [
    {
     "name": "stdout",
     "output_type": "stream",
     "text": [
      "[]\n",
      "[4]\n"
     ]
    }
   ],
   "source": [
    "vector = []#declarar lista vacia\n",
    "\n",
    "print(vector)\n",
    "\n",
    "vector.append(4) \n",
    "print(vector)"
   ]
  },
  {
   "cell_type": "code",
   "execution_count": 41,
   "metadata": {},
   "outputs": [
    {
     "name": "stdout",
     "output_type": "stream",
     "text": [
      "|1|\t -> \t|<class 'int'>|\n",
      "|3.123|\t -> \t|<class 'float'>|\n",
      "|True|\t -> \t|<class 'bool'>|\n",
      "|este|\t -> \t|<class 'str'>|\n",
      "|None|\t -> \t|<class 'NoneType'>|\n"
     ]
    }
   ],
   "source": [
    "# varios tipos de datos\n",
    "lista_de_valores = [1, 3.123, True, \"este\", None]\n",
    "\n",
    "for x in lista_de_valores:\n",
    "    string_para_mostrar = \"|{}|\\t -> \\t|{}|\".format(x, type(x))\n",
    "    print(string_para_mostrar)\n",
    "\n",
    "\n"
   ]
  },
  {
   "cell_type": "code",
   "execution_count": null,
   "metadata": {},
   "outputs": [],
   "source": []
  },
  {
   "cell_type": "markdown",
   "metadata": {},
   "source": [
    "### Tuplas"
   ]
  },
  {
   "cell_type": "code",
   "execution_count": 53,
   "metadata": {},
   "outputs": [
    {
     "name": "stdout",
     "output_type": "stream",
     "text": [
      "('reddy', 2, 'asdfasdf', 3, 4)\n"
     ]
    }
   ],
   "source": [
    "tupla1 = (1, 2, \"asdfasdf\", 3, 4)\n",
    "\n",
    "tupla1 = list(tupla1)\n",
    "tupla1[0] = \"reddy\"\n",
    "tupla1 = tuple(tupla1)\n",
    "\n",
    "print(tupla1)\n",
    "\n",
    "\n",
    "# tupla2 = (1, False, \"hola\")\n",
    "# print(tupla2)"
   ]
  },
  {
   "cell_type": "code",
   "execution_count": 54,
   "metadata": {},
   "outputs": [
    {
     "name": "stdout",
     "output_type": "stream",
     "text": [
      "<class 'tuple'>\n",
      "<class 'list'>\n",
      "[51, 70, 80, 39]\n",
      "<class 'tuple'>\n"
     ]
    }
   ],
   "source": [
    "notas = (49, 70, 80, 39)\n",
    "print(type(notas))#tuple\n",
    "\n",
    "notas = list(notas)\n",
    "print(type(notas))#tuple\n",
    "\n",
    "notas[0] = 51\n",
    "print(notas)\n",
    "\n",
    "notas = tuple(notas)\n",
    "print(type(notas))#tuple"
   ]
  },
  {
   "cell_type": "code",
   "execution_count": null,
   "metadata": {},
   "outputs": [],
   "source": []
  },
  {
   "cell_type": "markdown",
   "metadata": {},
   "source": [
    "### Diccionarios"
   ]
  },
  {
   "cell_type": "code",
   "execution_count": 71,
   "metadata": {},
   "outputs": [
    {
     "data": {
      "text/plain": [
       "[1, 2, 1, 3, 4, 5, 2, 3, 6, 9, 10, 10]"
      ]
     },
     "execution_count": 71,
     "metadata": {},
     "output_type": "execute_result"
    }
   ],
   "source": [
    "respuestas_pregunta1 = [1, 2, 1, 3, 4, 5, 2, 3]\n",
    "lista_enteros"
   ]
  },
  {
   "cell_type": "code",
   "execution_count": 75,
   "metadata": {},
   "outputs": [
    {
     "name": "stdout",
     "output_type": "stream",
     "text": [
      "{1: 2, 2: 2, 3: 2, 4: 1, 5: 1, 6: 1, 9: 1, 10: 2}\n"
     ]
    }
   ],
   "source": [
    "# dic = {1: 2, 2:2, 3:2, 4:1, 5:1, 6:1}\n",
    "\n",
    "dic = {}\n",
    "for value in lista_enteros:\n",
    "    try:\n",
    "        dic[value] = dic[value] + 1\n",
    "    except:\n",
    "        dic[value] = 1\n",
    "        \n",
    "print(dic)\n"
   ]
  },
  {
   "cell_type": "code",
   "execution_count": 68,
   "metadata": {},
   "outputs": [
    {
     "name": "stdout",
     "output_type": "stream",
     "text": [
      "['preg 1 niv3']\n"
     ]
    }
   ],
   "source": [
    "preguntas_niv1 = [\"what is oksd\", \"asdfsad\", \"2r2sd\", \"afsdfdsa\", \"asdf2esdfsad\"]\n",
    "preguntas_niv2 = [\"whaasdfat is oksd\", \"asasdfadfsad\", \"3wrw2r2sd\", \"afs34rdfdsa\", \"asdf2esdfsad\"]\n",
    "\n",
    "preguntas_niv3 = [\"preg 1 niv3\"]\n",
    "\n",
    "banco_preguntas_por_nivel = {1: preguntas_niv1, 2: preguntas_niv2}\n",
    "\n",
    "banco_preguntas_por_nivel[\"niv 6\"] = preguntas_niv3\n",
    "\n",
    "print(banco_preguntas_por_nivel[\"niv 6\"])"
   ]
  },
  {
   "cell_type": "code",
   "execution_count": null,
   "metadata": {},
   "outputs": [],
   "source": []
  },
  {
   "cell_type": "code",
   "execution_count": 86,
   "metadata": {},
   "outputs": [
    {
     "data": {
      "text/plain": [
       "{1: 2, 2: 2, 3: 2, 4: 1, 5: 1, 6: 1, 9: 1, 10: 2}"
      ]
     },
     "execution_count": 86,
     "metadata": {},
     "output_type": "execute_result"
    }
   ],
   "source": [
    "dic"
   ]
  },
  {
   "cell_type": "markdown",
   "metadata": {},
   "source": [
    "## For"
   ]
  },
  {
   "cell_type": "code",
   "execution_count": 76,
   "metadata": {},
   "outputs": [
    {
     "name": "stdout",
     "output_type": "stream",
     "text": [
      "0\n",
      "1\n",
      "2\n",
      "3\n",
      "4\n",
      "5\n",
      "6\n",
      "7\n",
      "8\n",
      "9\n"
     ]
    }
   ],
   "source": [
    "\"\"\"\n",
    "for(int i =0 ; i < 10; i++){\n",
    "       \n",
    "}\n",
    "\"\"\"\n",
    "# 0 1 2 3 4 5 6 7 8 9\n",
    "\n",
    "\n",
    "for i in range(10):\n",
    "    print(i)\n",
    "    # i -> boolean\n",
    "    # 1 -> int"
   ]
  },
  {
   "cell_type": "code",
   "execution_count": 90,
   "metadata": {},
   "outputs": [
    {
     "name": "stdout",
     "output_type": "stream",
     "text": [
      "1\n",
      "2\n"
     ]
    }
   ],
   "source": [
    "f = False # 0 \n",
    "t = True  # 1\n",
    "\n",
    "print(int(f) + 1)\n",
    "print(int(t) + 1)"
   ]
  },
  {
   "cell_type": "markdown",
   "metadata": {},
   "source": [
    "## If"
   ]
  },
  {
   "cell_type": "code",
   "execution_count": 79,
   "metadata": {},
   "outputs": [
    {
     "name": "stdout",
     "output_type": "stream",
     "text": [
      "Numero mayor a 7\n"
     ]
    }
   ],
   "source": [
    "numero = 8\n",
    "\n",
    "if(numero < 5):\n",
    "    print(\"Numero menor a 5\")\n",
    "elif(numero > 7):\n",
    "    print(\"Numero mayor a 7\")\n",
    "else:\n",
    "    print(\"numero entre 7 y 5\")\n",
    "    "
   ]
  },
  {
   "cell_type": "code",
   "execution_count": null,
   "metadata": {},
   "outputs": [],
   "source": []
  }
 ],
 "metadata": {
  "kernelspec": {
   "display_name": "Python 3",
   "language": "python",
   "name": "python3"
  },
  "language_info": {
   "codemirror_mode": {
    "name": "ipython",
    "version": 3
   },
   "file_extension": ".py",
   "mimetype": "text/x-python",
   "name": "python",
   "nbconvert_exporter": "python",
   "pygments_lexer": "ipython3",
   "version": "3.7.4"
  }
 },
 "nbformat": 4,
 "nbformat_minor": 2
}
