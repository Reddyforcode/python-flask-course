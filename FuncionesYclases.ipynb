{
 "cells": [
  {
   "cell_type": "markdown",
   "metadata": {},
   "source": [
    "# Funciones"
   ]
  },
  {
   "cell_type": "code",
   "execution_count": 9,
   "metadata": {},
   "outputs": [
    {
     "name": "stdout",
     "output_type": "stream",
     "text": [
      "<class 'list'>\n"
     ]
    }
   ],
   "source": [
    "def suma_dos_numeros(num1, num2):\n",
    "    \"\"\"\n",
    "         Input: \n",
    "         - num1: int\n",
    "         - num2: int\n",
    "         Output:\n",
    "         - imprime un entero con la suma de los dos numeros\n",
    "    \"\"\"\n",
    "    return [1 ,2, 3, 4]\n",
    "\n",
    "valor_recivido = suma_dos_numeros(1, 23)\n",
    "\n",
    "print(type(valor_recivido))\n"
   ]
  },
  {
   "cell_type": "code",
   "execution_count": 24,
   "metadata": {},
   "outputs": [],
   "source": [
    "def get_varios_valores(nombre, segundo_nombre= None, apellido = \"Mamani\"):\n",
    "    string = \"a->{}, b->{}, d->{}\".format(nombre, segundo_nombre, apellido)\n",
    "    print(string)"
   ]
  },
  {
   "cell_type": "code",
   "execution_count": 28,
   "metadata": {},
   "outputs": [
    {
     "name": "stdout",
     "output_type": "stream",
     "text": [
      "a->asd, b->None, d->nombre\n"
     ]
    }
   ],
   "source": [
    "get_varios_valores(nombre = \"nombre\", apellido=\"asd\")\n"
   ]
  },
  {
   "cell_type": "code",
   "execution_count": 37,
   "metadata": {},
   "outputs": [],
   "source": [
    "def devolver_a_b():\n",
    "    return 1, \"hola\", 3"
   ]
  },
  {
   "cell_type": "code",
   "execution_count": 39,
   "metadata": {},
   "outputs": [
    {
     "name": "stdout",
     "output_type": "stream",
     "text": [
      "1\n",
      "hola\n",
      "3\n"
     ]
    }
   ],
   "source": [
    "# version 1.0\n",
    "a, b = devolver_a_b()\n",
    "# version 1.1\n",
    "a, b, c = devolver_a_b()\n",
    "\n",
    "print(a)\n",
    "print(b)\n",
    "print(c)"
   ]
  },
  {
   "cell_type": "markdown",
   "metadata": {},
   "source": [
    "## POO"
   ]
  },
  {
   "cell_type": "code",
   "execution_count": 69,
   "metadata": {},
   "outputs": [],
   "source": [
    "class Complejo:\n",
    "    \n",
    "    def __init__(self, real= 0, imaginaria= 0):\n",
    "        self.real = real\n",
    "        self.imaginaria = imaginaria\n",
    "        print(\"Numero complejo creado\")\n",
    "        \n",
    "    def __repr__(self):#representation\n",
    "        return \"{} + {}i\".format(self.real, self.imaginaria)\n",
    "    \n",
    "    def __add__(self, otro_numero_complejo):\n",
    "        # \"+\"\n",
    "        resp_real = self.real + otro_numero_complejo.real\n",
    "        resp_imaginaria = self.imaginaria + otro_numero_complejo.imaginaria\n",
    "        return Complejo(resp_real, resp_imaginaria)  \n",
    "\n",
    "    \n",
    "    \n",
    "    "
   ]
  },
  {
   "cell_type": "code",
   "execution_count": 70,
   "metadata": {},
   "outputs": [
    {
     "name": "stdout",
     "output_type": "stream",
     "text": [
      "Numero complejo creado\n",
      "c1:  1 + 3i\n",
      "Numero complejo creado\n",
      "c2:  11 + 3i\n",
      "Numero complejo creado\n",
      "12 + 6i\n"
     ]
    }
   ],
   "source": [
    "c1 = Complejo(1, 3)\n",
    "print(\"c1: \", c1)\n",
    "c2 = Complejo(11, 3)\n",
    "print(\"c2: \", c2)\n",
    "\n",
    "respuesta = c1 + c2\n",
    "print(respuesta)"
   ]
  },
  {
   "cell_type": "code",
   "execution_count": null,
   "metadata": {},
   "outputs": [],
   "source": []
  },
  {
   "cell_type": "code",
   "execution_count": 51,
   "metadata": {},
   "outputs": [
    {
     "name": "stdout",
     "output_type": "stream",
     "text": [
      "Numero complejo creado\n",
      "<__main__.Complejo object at 0x105e83990>\n"
     ]
    }
   ],
   "source": []
  },
  {
   "cell_type": "code",
   "execution_count": null,
   "metadata": {},
   "outputs": [],
   "source": []
  },
  {
   "cell_type": "code",
   "execution_count": 92,
   "metadata": {},
   "outputs": [
    {
     "name": "stdout",
     "output_type": "stream",
     "text": [
      "7 + 14i\n"
     ]
    }
   ],
   "source": [
    "num_complejo1 = Complejo(1, 3)\n",
    "num_complejo2 = Complejo(6, 11)\n",
    "\n",
    "resultado = num_complejo2 + num_complejo1\n",
    "print(resultado)\n",
    "\n"
   ]
  },
  {
   "cell_type": "markdown",
   "metadata": {},
   "source": [
    "## Herencia"
   ]
  },
  {
   "cell_type": "code",
   "execution_count": 83,
   "metadata": {},
   "outputs": [],
   "source": [
    "class Padre:\n",
    "    def funcion_de_padre(self):\n",
    "        print(\"funcion_de_padre llamada\")\n",
    "        \n",
    "class Madre:\n",
    "    def funcion_de_madre(self):\n",
    "        print(\"funcion_de_madre\")\n",
    "\n",
    "class Hijo(Padre, Madre):\n",
    "    def __init__(self):\n",
    "        self.funcion_de_padre()\n",
    "        self.funcion_de_madre()\n",
    "\n",
    "        "
   ]
  },
  {
   "cell_type": "code",
   "execution_count": 84,
   "metadata": {},
   "outputs": [
    {
     "name": "stdout",
     "output_type": "stream",
     "text": [
      "funcion_de_padre llamada\n",
      "funcion_de_madre\n"
     ]
    },
    {
     "ename": "AttributeError",
     "evalue": "'Hijo' object has no attribute 'value'",
     "output_type": "error",
     "traceback": [
      "\u001b[0;31m---------------------------------------------------------------------------\u001b[0m",
      "\u001b[0;31mAttributeError\u001b[0m                            Traceback (most recent call last)",
      "\u001b[0;32m<ipython-input-84-267cc5a6824a>\u001b[0m in \u001b[0;36m<module>\u001b[0;34m\u001b[0m\n\u001b[1;32m      1\u001b[0m \u001b[0mhijo\u001b[0m \u001b[0;34m=\u001b[0m \u001b[0mHijo\u001b[0m\u001b[0;34m(\u001b[0m\u001b[0;34m)\u001b[0m\u001b[0;34m\u001b[0m\u001b[0;34m\u001b[0m\u001b[0m\n\u001b[0;32m----> 2\u001b[0;31m \u001b[0mprint\u001b[0m\u001b[0;34m(\u001b[0m\u001b[0mhijo\u001b[0m\u001b[0;34m.\u001b[0m\u001b[0mvalue\u001b[0m\u001b[0;34m)\u001b[0m\u001b[0;34m\u001b[0m\u001b[0;34m\u001b[0m\u001b[0m\n\u001b[0m",
      "\u001b[0;31mAttributeError\u001b[0m: 'Hijo' object has no attribute 'value'"
     ]
    }
   ],
   "source": [
    "hijo = Hijo()\n",
    "print(hijo.value)"
   ]
  },
  {
   "cell_type": "code",
   "execution_count": null,
   "metadata": {},
   "outputs": [],
   "source": []
  }
 ],
 "metadata": {
  "kernelspec": {
   "display_name": "Python 3",
   "language": "python",
   "name": "python3"
  },
  "language_info": {
   "codemirror_mode": {
    "name": "ipython",
    "version": 3
   },
   "file_extension": ".py",
   "mimetype": "text/x-python",
   "name": "python",
   "nbconvert_exporter": "python",
   "pygments_lexer": "ipython3",
   "version": "3.7.4"
  }
 },
 "nbformat": 4,
 "nbformat_minor": 2
}
