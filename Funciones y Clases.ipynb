{
 "cells": [
  {
   "cell_type": "markdown",
   "metadata": {},
   "source": [
    "# Funciones"
   ]
  },
  {
   "cell_type": "code",
   "execution_count": 3,
   "metadata": {},
   "outputs": [],
   "source": [
    "def suma_dos_numeros(num1, num2):\n",
    "    \"\"\"\n",
    "         Input: \n",
    "         - a: int\n",
    "         - b: int\n",
    "         Output:\n",
    "         - imprime un entero con la suma de los dos numeros\n",
    "    \"\"\"\n",
    "    print(num1+num2)"
   ]
  },
  {
   "cell_type": "code",
   "execution_count": 49,
   "metadata": {},
   "outputs": [],
   "source": [
    "def get_varios_valores(a=None, b= None, d = None):\n",
    "    string = \"a->{}, b->{}, c->{}\".format(a, b, d)\n",
    "    print(string)"
   ]
  },
  {
   "cell_type": "code",
   "execution_count": 50,
   "metadata": {},
   "outputs": [
    {
     "name": "stdout",
     "output_type": "stream",
     "text": [
      "a->hola, b->mundo, c->False\n"
     ]
    }
   ],
   "source": [
    "get_varios_valores(\"hola\", \"mundo\", False)\n"
   ]
  },
  {
   "cell_type": "markdown",
   "metadata": {},
   "source": [
    "## POO"
   ]
  },
  {
   "cell_type": "code",
   "execution_count": 91,
   "metadata": {},
   "outputs": [],
   "source": [
    "class Complejo:\n",
    "    \n",
    "    def __init__(self, real, imaginaria):\n",
    "        self.real = real\n",
    "        self.imaginaria = imaginaria\n",
    "        #print(\"Numero complejo creado\")\n",
    "        \n",
    "    def __repr__(self):#representation\n",
    "        return \"{} + {}i\".format(self.real, self.imaginaria)\n",
    "    \n",
    "    def __add__(self, otro_numero_complejo):\n",
    "        real = self.real + otro_numero_complejo.real\n",
    "        imaginaria = self.imaginaria + otro_numero_complejo.imaginaria\n",
    "        return Complejo(real, imaginaria)  \n",
    "    \n",
    "    \n",
    "    "
   ]
  },
  {
   "cell_type": "code",
   "execution_count": 92,
   "metadata": {},
   "outputs": [
    {
     "name": "stdout",
     "output_type": "stream",
     "text": [
      "7 + 14i\n"
     ]
    }
   ],
   "source": [
    "num_complejo1 = Complejo(1, 3)\n",
    "num_complejo2 = Complejo(6, 11)\n",
    "\n",
    "resultado = num_complejo2 + num_complejo1\n",
    "print(resultado)\n",
    "\n"
   ]
  },
  {
   "cell_type": "markdown",
   "metadata": {},
   "source": [
    "## Herencia"
   ]
  },
  {
   "cell_type": "code",
   "execution_count": 96,
   "metadata": {},
   "outputs": [],
   "source": [
    "class Padre:\n",
    "    def funcion_de_padre(self):\n",
    "        print(\"funcion_de_padre\")\n",
    "        \n",
    "class Madre:\n",
    "    def funcion_de_madre(self):\n",
    "        print(\"funcion_de_madre\")\n",
    "\n",
    "class Hijo(Padre, Madre):\n",
    "    def __init__(self):\n",
    "        self.funcion_de_padre()\n",
    "        self.funcion_de_madre()\n",
    "        "
   ]
  },
  {
   "cell_type": "code",
   "execution_count": 97,
   "metadata": {},
   "outputs": [
    {
     "name": "stdout",
     "output_type": "stream",
     "text": [
      "funcion_de_padre\n",
      "funcion_de_madre\n"
     ]
    }
   ],
   "source": [
    "hijo = Hijo()"
   ]
  },
  {
   "cell_type": "code",
   "execution_count": null,
   "metadata": {},
   "outputs": [],
   "source": []
  }
 ],
 "metadata": {
  "kernelspec": {
   "display_name": "Python 3",
   "language": "python",
   "name": "python3"
  },
  "language_info": {
   "codemirror_mode": {
    "name": "ipython",
    "version": 3
   },
   "file_extension": ".py",
   "mimetype": "text/x-python",
   "name": "python",
   "nbconvert_exporter": "python",
   "pygments_lexer": "ipython3",
   "version": "3.7.4"
  }
 },
 "nbformat": 4,
 "nbformat_minor": 2
}
