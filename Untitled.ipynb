{
 "cells": [
  {
   "cell_type": "markdown",
   "metadata": {},
   "source": [
    "# Python Basics"
   ]
  },
  {
   "cell_type": "markdown",
   "metadata": {},
   "source": [
    "### Numericos"
   ]
  },
  {
   "cell_type": "code",
   "execution_count": 17,
   "metadata": {},
   "outputs": [
    {
     "name": "stdout",
     "output_type": "stream",
     "text": [
      "1\n",
      "<class 'int'>\n",
      "3.2\n",
      "<class 'float'>\n",
      "5j\n",
      "<class 'complex'>\n"
     ]
    }
   ],
   "source": [
    "# int\n",
    "entero = 1\n",
    "print(entero)\n",
    "print(type(entero))\n",
    "\n",
    "# decimales\n",
    "decimal = 3.2\n",
    "print(decimal)\n",
    "print(type(decimal))\n",
    "\n",
    "# complejos\n",
    "complejos = 2j\n",
    "print(complejos)\n",
    "print(type(complejos))"
   ]
  },
  {
   "cell_type": "markdown",
   "metadata": {},
   "source": [
    "### Booleanos"
   ]
  },
  {
   "cell_type": "code",
   "execution_count": 21,
   "metadata": {},
   "outputs": [
    {
     "name": "stdout",
     "output_type": "stream",
     "text": [
      "False\n"
     ]
    }
   ],
   "source": [
    "x = False\n",
    "print(x)"
   ]
  },
  {
   "cell_type": "markdown",
   "metadata": {},
   "source": [
    "### Cadenas"
   ]
  },
  {
   "cell_type": "code",
   "execution_count": 26,
   "metadata": {},
   "outputs": [
    {
     "name": "stdout",
     "output_type": "stream",
     "text": [
      "este es un string\n"
     ]
    }
   ],
   "source": [
    "string = \"este es un string\"\n",
    "print(string)"
   ]
  },
  {
   "cell_type": "markdown",
   "metadata": {},
   "source": [
    "### Listas"
   ]
  },
  {
   "cell_type": "code",
   "execution_count": 40,
   "metadata": {},
   "outputs": [
    {
     "name": "stdout",
     "output_type": "stream",
     "text": [
      "Sin modificacion\n",
      "[1, 2, 3, 4, 5]\n",
      "Con modificacion\n",
      "[10, 2, 3, 4, 5]\n"
     ]
    }
   ],
   "source": [
    "# Un solo tipo de dato\n",
    "x = [1, 2, 3, 4, 5]\n",
    "print(\"Sin modificacion\")\n",
    "print(x)\n",
    "#print(type(x))\n",
    "x[0] = 10\n",
    "print(\"Con modificacion\")\n",
    "print(x)\n"
   ]
  },
  {
   "cell_type": "code",
   "execution_count": 38,
   "metadata": {},
   "outputs": [
    {
     "name": "stdout",
     "output_type": "stream",
     "text": [
      "1 \t -> \t <class 'int'>\n",
      "3.123 \t -> \t <class 'float'>\n",
      "True \t -> \t <class 'bool'>\n",
      "este \t -> \t <class 'str'>\n",
      "None \t -> \t <class 'NoneType'>\n"
     ]
    }
   ],
   "source": [
    "# varios tipos de datos\n",
    "y = [1, 3.123, True, \"este\", None]\n",
    "#print(y)\n",
    "#print(type(y))\n",
    "\n",
    "for value in y:\n",
    "    print(value, \"\\t -> \\t\", type(value))\n",
    "\n",
    "\n"
   ]
  },
  {
   "cell_type": "code",
   "execution_count": null,
   "metadata": {},
   "outputs": [],
   "source": []
  },
  {
   "cell_type": "markdown",
   "metadata": {},
   "source": [
    "### Tuplas"
   ]
  },
  {
   "cell_type": "code",
   "execution_count": 46,
   "metadata": {},
   "outputs": [
    {
     "name": "stdout",
     "output_type": "stream",
     "text": [
      "(1, 2, 3, 4)\n",
      "(1, False, 'hola')\n"
     ]
    }
   ],
   "source": [
    "tupla1 = (1, 2, 3, 4)\n",
    "print(tupla1)\n",
    "\n",
    "tupla2 = (1, False, \"hola\")\n",
    "print(tupla2)"
   ]
  },
  {
   "cell_type": "code",
   "execution_count": 53,
   "metadata": {},
   "outputs": [
    {
     "name": "stdout",
     "output_type": "stream",
     "text": [
      "<class 'tuple'>\n",
      "<class 'list'>\n",
      "[51, 70, 80, 39]\n",
      "<class 'tuple'>\n"
     ]
    }
   ],
   "source": [
    "notas = (49, 70, 80, 39)\n",
    "print(type(notas))#tuple\n",
    "\n",
    "notas = list(notas)\n",
    "print(type(notas))#tuple\n",
    "\n",
    "notas[0] = 51\n",
    "print(notas)\n",
    "\n",
    "notas = tuple(notas)\n",
    "print(type(notas))#tuple"
   ]
  },
  {
   "cell_type": "code",
   "execution_count": null,
   "metadata": {},
   "outputs": [],
   "source": []
  },
  {
   "cell_type": "markdown",
   "metadata": {},
   "source": [
    "### Diccionarios"
   ]
  },
  {
   "cell_type": "code",
   "execution_count": 83,
   "metadata": {},
   "outputs": [
    {
     "data": {
      "text/plain": [
       "[1, 2, 1, 3, 4, 5, 2, 3, 6, 9, 10, 10]"
      ]
     },
     "execution_count": 83,
     "metadata": {},
     "output_type": "execute_result"
    }
   ],
   "source": [
    "lista_enteros = [1, 2, 1, 3, 4, 5, 2, 3, 6, 9, 10, 10]\n",
    "lista_enteros"
   ]
  },
  {
   "cell_type": "code",
   "execution_count": 84,
   "metadata": {},
   "outputs": [],
   "source": [
    "dic = {}"
   ]
  },
  {
   "cell_type": "code",
   "execution_count": 85,
   "metadata": {},
   "outputs": [],
   "source": [
    "for value in lista_enteros:\n",
    "    try:\n",
    "        dic[value] = dic[value] + 1\n",
    "    except:\n",
    "        dic[value] = 1"
   ]
  },
  {
   "cell_type": "code",
   "execution_count": 86,
   "metadata": {},
   "outputs": [
    {
     "data": {
      "text/plain": [
       "{1: 2, 2: 2, 3: 2, 4: 1, 5: 1, 6: 1, 9: 1, 10: 2}"
      ]
     },
     "execution_count": 86,
     "metadata": {},
     "output_type": "execute_result"
    }
   ],
   "source": [
    "dic"
   ]
  },
  {
   "cell_type": "markdown",
   "metadata": {},
   "source": [
    "## For"
   ]
  },
  {
   "cell_type": "code",
   "execution_count": 89,
   "metadata": {},
   "outputs": [
    {
     "name": "stdout",
     "output_type": "stream",
     "text": [
      "1\n",
      "2\n"
     ]
    }
   ],
   "source": [
    "\"\"\"\n",
    "for(int i =0 ; i < 10; i++){\n",
    "       \n",
    "}\n",
    "\"\"\"\n",
    "# 0 1 2 3 4 5 6 7 8 9\n",
    "lista = [False, True]\n",
    "\n",
    "for i in lista:\n",
    "    print(i+1)\n",
    "    # i -> boolean\n",
    "    # 1 -> int"
   ]
  },
  {
   "cell_type": "code",
   "execution_count": 90,
   "metadata": {},
   "outputs": [
    {
     "name": "stdout",
     "output_type": "stream",
     "text": [
      "1\n",
      "2\n"
     ]
    }
   ],
   "source": [
    "f = False # 0 \n",
    "t = True  # 1\n",
    "\n",
    "print(int(f) + 1)\n",
    "print(int(t) + 1)"
   ]
  },
  {
   "cell_type": "markdown",
   "metadata": {},
   "source": [
    "## If"
   ]
  },
  {
   "cell_type": "code",
   "execution_count": 91,
   "metadata": {},
   "outputs": [
    {
     "name": "stdout",
     "output_type": "stream",
     "text": [
      "Numero mayor a 7\n"
     ]
    }
   ],
   "source": [
    "numero = 8\n",
    "\n",
    "if(numero < 5):\n",
    "    print(\"Numero menor a 5\")\n",
    "elif(numero > 7):\n",
    "    print(\"Numero mayor a 7\")\n",
    "else:\n",
    "    print(\"numero entre 7 y 5\")\n",
    "    "
   ]
  },
  {
   "cell_type": "code",
   "execution_count": null,
   "metadata": {},
   "outputs": [],
   "source": []
  }
 ],
 "metadata": {
  "kernelspec": {
   "display_name": "Python 3",
   "language": "python",
   "name": "python3"
  },
  "language_info": {
   "codemirror_mode": {
    "name": "ipython",
    "version": 3
   },
   "file_extension": ".py",
   "mimetype": "text/x-python",
   "name": "python",
   "nbconvert_exporter": "python",
   "pygments_lexer": "ipython3",
   "version": "3.7.4"
  }
 },
 "nbformat": 4,
 "nbformat_minor": 2
}
